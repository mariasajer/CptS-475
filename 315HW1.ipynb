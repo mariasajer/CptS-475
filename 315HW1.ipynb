{
  "nbformat": 4,
  "nbformat_minor": 0,
  "metadata": {
    "colab": {
      "provenance": [],
      "authorship_tag": "ABX9TyOxfKE1u7mDg3BAxqlahZvk",
      "include_colab_link": true
    },
    "kernelspec": {
      "name": "python3",
      "display_name": "Python 3"
    },
    "language_info": {
      "name": "python"
    }
  },
  "cells": [
    {
      "cell_type": "markdown",
      "metadata": {
        "id": "view-in-github",
        "colab_type": "text"
      },
      "source": [
        "<a href=\"https://colab.research.google.com/github/mariasajer/CptS-475/blob/main/315HW1.ipynb\" target=\"_parent\"><img src=\"https://colab.research.google.com/assets/colab-badge.svg\" alt=\"Open In Colab\"/></a>"
      ]
    },
    {
      "cell_type": "code",
      "source": [
        "#open data file and read in\n",
        "#separate by line\n",
        "with open('browsingdata_50baskets.txt', 'r') as f:    \n",
        "   text=f.readlines()\n",
        "sessions = [[items for items in line.split()] for line in text]\n",
        "sessions"
      ],
      "metadata": {
        "id": "3AGunQ1JMS0C",
        "colab": {
          "base_uri": "https://localhost:8080/"
        },
        "outputId": "ef459dec-27fd-488a-9b2b-bba5dba33ea6"
      },
      "execution_count": null,
      "outputs": [
        {
          "output_type": "execute_result",
          "data": {
            "text/plain": [
              "[['FRO11987', 'ELE17451', 'ELE89019', 'SNA90258', 'GRO99222'],\n",
              " ['GRO99222',\n",
              "  'GRO12298',\n",
              "  'FRO12685',\n",
              "  'ELE91550',\n",
              "  'SNA11465',\n",
              "  'ELE26917',\n",
              "  'ELE52966',\n",
              "  'FRO90334',\n",
              "  'SNA30755',\n",
              "  'ELE17451',\n",
              "  'FRO84225',\n",
              "  'SNA80192'],\n",
              " ['ELE17451', 'GRO73461', 'DAI22896', 'SNA99873', 'FRO86643'],\n",
              " ['ELE17451', 'ELE37798', 'FRO86643', 'GRO56989', 'ELE23393', 'SNA11465'],\n",
              " ['ELE17451',\n",
              "  'SNA69641',\n",
              "  'FRO86643',\n",
              "  'FRO78087',\n",
              "  'SNA11465',\n",
              "  'GRO39357',\n",
              "  'ELE28573',\n",
              "  'ELE11375',\n",
              "  'DAI54444'],\n",
              " ['ELE17451',\n",
              "  'GRO73461',\n",
              "  'DAI22896',\n",
              "  'SNA99873',\n",
              "  'FRO18919',\n",
              "  'DAI50921',\n",
              "  'SNA80192',\n",
              "  'GRO75578'],\n",
              " ['ELE17451',\n",
              "  'ELE59935',\n",
              "  'FRO18919',\n",
              "  'ELE23393',\n",
              "  'SNA80192',\n",
              "  'SNA85662',\n",
              "  'SNA91554',\n",
              "  'DAI22177'],\n",
              " ['ELE17451',\n",
              "  'SNA69641',\n",
              "  'FRO18919',\n",
              "  'SNA90258',\n",
              "  'ELE28573',\n",
              "  'ELE11375',\n",
              "  'DAI14125',\n",
              "  'FRO78087'],\n",
              " ['ELE17451',\n",
              "  'GRO73461',\n",
              "  'DAI22896',\n",
              "  'SNA80192',\n",
              "  'SNA85662',\n",
              "  'SNA90258',\n",
              "  'DAI46755',\n",
              "  'FRO81176',\n",
              "  'ELE66810',\n",
              "  'DAI49199',\n",
              "  'DAI91535',\n",
              "  'GRO94758',\n",
              "  'ELE94711',\n",
              "  'DAI22177'],\n",
              " ['ELE17451',\n",
              "  'SNA69641',\n",
              "  'DAI91535',\n",
              "  'GRO94758',\n",
              "  'GRO99222',\n",
              "  'FRO76833',\n",
              "  'FRO81176',\n",
              "  'SNA80192',\n",
              "  'DAI54690',\n",
              "  'ELE37798',\n",
              "  'GRO56989'],\n",
              " ['ELE17451',\n",
              "  'GRO73461',\n",
              "  'DAI22896',\n",
              "  'GRO99222',\n",
              "  'SNA47306',\n",
              "  'GRO36567',\n",
              "  'ELE82555',\n",
              "  'SNA17715',\n",
              "  'SNA94781',\n",
              "  'DAI87514',\n",
              "  'GRO48282',\n",
              "  'GRO12935',\n",
              "  'SNA55952',\n",
              "  'DAI93692',\n",
              "  'DAI92253',\n",
              "  'FRO82427',\n",
              "  'ELE26917',\n",
              "  'DAI22177'],\n",
              " ['GRO99222',\n",
              "  'DAI48891',\n",
              "  'GRO36567',\n",
              "  'ELE82555',\n",
              "  'SNA17715',\n",
              "  'SNA94781',\n",
              "  'DAI87514',\n",
              "  'SNA55952',\n",
              "  'DAI93692',\n",
              "  'GRO12935',\n",
              "  'GRO48282',\n",
              "  'DAI92253',\n",
              "  'FRO82427',\n",
              "  'ELE17451',\n",
              "  'ELE37798',\n",
              "  'GRO56989'],\n",
              " ['ELE28573', 'ELE11375', 'ELE27376', 'FRO78087'],\n",
              " ['ELE17451',\n",
              "  'GRO73461',\n",
              "  'DAI22896',\n",
              "  'SNA99873',\n",
              "  'FRO47475',\n",
              "  'FRO18919',\n",
              "  'SNA90258',\n",
              "  'GRO75578',\n",
              "  'FRO78087',\n",
              "  'GRO39357',\n",
              "  'DAI17810',\n",
              "  'FRO17376',\n",
              "  'DAI38969',\n",
              "  'DAI50913'],\n",
              " ['DAI22896',\n",
              "  'FRO47475',\n",
              "  'FRO18919',\n",
              "  'SNA90258',\n",
              "  'ELE11111',\n",
              "  'FRO86643',\n",
              "  'ELE26917',\n",
              "  'GRO99222',\n",
              "  'DAI22177'],\n",
              " ['ELE17451',\n",
              "  'ELE59935',\n",
              "  'SNA66979',\n",
              "  'FRO92261',\n",
              "  'FRO47475',\n",
              "  'FRO76487',\n",
              "  'FRO86643',\n",
              "  'GRO39369',\n",
              "  'FRO78087',\n",
              "  'GRO22575',\n",
              "  'GRO39357',\n",
              "  'GRO48971',\n",
              "  'FRO32293'],\n",
              " ['ELE17451',\n",
              "  'FRO98729',\n",
              "  'FRO18919',\n",
              "  'SNA90258',\n",
              "  'ELE11111',\n",
              "  'FRO86643',\n",
              "  'ELE26917',\n",
              "  'GRO99222'],\n",
              " ['GRO39369',\n",
              "  'DAI95741',\n",
              "  'FRO78087',\n",
              "  'GRO39357',\n",
              "  'GRO75578',\n",
              "  'FRO86643',\n",
              "  'SNA11465',\n",
              "  'ELE17451',\n",
              "  'ELE37798',\n",
              "  'GRO56989'],\n",
              " ['ELE28573', 'ELE11375', 'DAI44355', 'FRO78087'],\n",
              " ['ELE17451',\n",
              "  'GRO73461',\n",
              "  'DAI22896',\n",
              "  'SNA80192',\n",
              "  'SNA47306',\n",
              "  'GRO36567',\n",
              "  'FRO75418',\n",
              "  'FRO70974',\n",
              "  'GRO49037',\n",
              "  'GRO30386',\n",
              "  'FRO41069',\n",
              "  'ELE96863',\n",
              "  'FRO16142',\n",
              "  'ELE52446',\n",
              "  'SNA91554',\n",
              "  'GRO99222',\n",
              "  'DAI88808',\n",
              "  'FRO18919',\n",
              "  'SNA90258'],\n",
              " ['ELE17451',\n",
              "  'ELE89019',\n",
              "  'FRO92261',\n",
              "  'FRO36081',\n",
              "  'DAI35347',\n",
              "  'SNA63157',\n",
              "  'GRO49037',\n",
              "  'ELE73246',\n",
              "  'SNA80192',\n",
              "  'DAI48891',\n",
              "  'GRO36567',\n",
              "  'FRO75418',\n",
              "  'SNA55952',\n",
              "  'DAI93692',\n",
              "  'ELE66067',\n",
              "  'ELE96863',\n",
              "  'ELE37798',\n",
              "  'GRO56989'],\n",
              " ['ELE17451',\n",
              "  'DAI22534',\n",
              "  'SNA93860',\n",
              "  'SNA84406',\n",
              "  'SNA26720',\n",
              "  'ELE98347',\n",
              "  'SNA80192',\n",
              "  'DAI54690',\n",
              "  'DAI22896',\n",
              "  'ELE96863',\n",
              "  'GRO99222'],\n",
              " ['ELE28573', 'ELE11375', 'ELE76964', 'FRO78087'],\n",
              " ['ELE17451',\n",
              "  'GRO73461',\n",
              "  'DAI22896',\n",
              "  'GRO99222',\n",
              "  'SNA47306',\n",
              "  'GRO36567',\n",
              "  'SNA63157',\n",
              "  'GRO49037',\n",
              "  'SNA55952',\n",
              "  'DAI93692',\n",
              "  'FRO19520',\n",
              "  'FRO13639',\n",
              "  'FRO24098',\n",
              "  'FRO98878',\n",
              "  'DAI22177'],\n",
              " ['ELE17451',\n",
              "  'ELE59935',\n",
              "  'FRO98878',\n",
              "  'GRO99222',\n",
              "  'SNA55952',\n",
              "  'DAI93692',\n",
              "  'FRO19520',\n",
              "  'DAI35347',\n",
              "  'FRO24098',\n",
              "  'DAI38156',\n",
              "  'ELE26917',\n",
              "  'ELE37798',\n",
              "  'GRO56989'],\n",
              " ['ELE17451',\n",
              "  'GRO73461',\n",
              "  'DAI22896',\n",
              "  'SNA72163',\n",
              "  'DAI55911',\n",
              "  'FRO31317',\n",
              "  'SNA59903',\n",
              "  'DAI59119',\n",
              "  'SNA55952',\n",
              "  'FRO87042',\n",
              "  'GRO48498',\n",
              "  'DAI95741',\n",
              "  'DAI18334',\n",
              "  'FRO38366',\n",
              "  'ELE96863',\n",
              "  'SNA70487',\n",
              "  'FRO19520',\n",
              "  'GRO99222',\n",
              "  'DAI35347',\n",
              "  'FRO13639',\n",
              "  'FRO24098',\n",
              "  'DAI38156',\n",
              "  'ELE26917'],\n",
              " ['DAI22177',\n",
              "  'ELE17451',\n",
              "  'ELE89019',\n",
              "  'FRO31317',\n",
              "  'ELE20196',\n",
              "  'DAI59119',\n",
              "  'FRO60023',\n",
              "  'GRO94047'],\n",
              " ['ELE17451',\n",
              "  'DAI22534',\n",
              "  'GRO73461',\n",
              "  'SNA84406',\n",
              "  'SNA26720',\n",
              "  'SNA40380',\n",
              "  'GRO99222',\n",
              "  'GRO91763',\n",
              "  'GRO48498',\n",
              "  'DAI95741',\n",
              "  'DAI18334',\n",
              "  'FRO38366',\n",
              "  'ELE96863',\n",
              "  'SNA70487',\n",
              "  'DAI35347',\n",
              "  'SNA63157',\n",
              "  'FRO24098',\n",
              "  'ELE73246',\n",
              "  'ELE26917'],\n",
              " ['ELE17451',\n",
              "  'GRO73461',\n",
              "  'GRO15017',\n",
              "  'FRO98184',\n",
              "  'GRO59710',\n",
              "  'DAI35347',\n",
              "  'SNA17715',\n",
              "  'SNA44593',\n",
              "  'DAI87514',\n",
              "  'ELE26917',\n",
              "  'ELE52966',\n",
              "  'GRO99222',\n",
              "  'GRO12935',\n",
              "  'GRO48282',\n",
              "  'SNA94781',\n",
              "  'ELE30182'],\n",
              " ['DAI35347',\n",
              "  'FRO98878',\n",
              "  'GRO99222',\n",
              "  'ELE96863',\n",
              "  'SNA70487',\n",
              "  'FRO24098',\n",
              "  'DAI38156',\n",
              "  'ELE26917',\n",
              "  'ELE18435',\n",
              "  'SNA99873',\n",
              "  'FRO41069',\n",
              "  'FRO98184',\n",
              "  'SNA45033',\n",
              "  'SNA17715',\n",
              "  'ELE30182',\n",
              "  'DAI22177'],\n",
              " ['ELE17451',\n",
              "  'ELE37798',\n",
              "  'DAI35347',\n",
              "  'FRO24098',\n",
              "  'DAI63921',\n",
              "  'ELE59935',\n",
              "  'GRO15017',\n",
              "  'DAI95860',\n",
              "  'GRO56989',\n",
              "  'ELE28573',\n",
              "  'ELE11375',\n",
              "  'FRO70489',\n",
              "  'FRO78087'],\n",
              " ['SNA18336', 'GRO39070', 'GRO99222', 'FRO74481', 'ELE69204'],\n",
              " ['ELE66600',\n",
              "  'FRO62970',\n",
              "  'FRO78087',\n",
              "  'ELE17451',\n",
              "  'SNA54161',\n",
              "  'SNA83730',\n",
              "  'DAI63921',\n",
              "  'ELE59935',\n",
              "  'FRO79301'],\n",
              " ['ELE17451',\n",
              "  'DAI22534',\n",
              "  'FRO62970',\n",
              "  'FRO78087',\n",
              "  'SNA85034',\n",
              "  'DAI91290',\n",
              "  'DAI63921',\n",
              "  'FRO79301',\n",
              "  'SNA83730',\n",
              "  'ELE89019',\n",
              "  'ELE59935'],\n",
              " ['ELE14480',\n",
              "  'GRO82070',\n",
              "  'GRO39070',\n",
              "  'GRO99222',\n",
              "  'ELE89019',\n",
              "  'FRO78087',\n",
              "  'DAI62779',\n",
              "  'ELE17451',\n",
              "  'ELE59935'],\n",
              " ['DAI35347',\n",
              "  'SNA86836',\n",
              "  'GRO34288',\n",
              "  'SNA55762',\n",
              "  'GRO99222',\n",
              "  'SNA17715',\n",
              "  'SNA80064',\n",
              "  'DAI62779',\n",
              "  'ELE17451',\n",
              "  'DAI63921',\n",
              "  'GRO68850',\n",
              "  'GRO32230',\n",
              "  'ELE26917',\n",
              "  'SNA99873',\n",
              "  'FRO31317',\n",
              "  'DAI32480',\n",
              "  'SNA14713'],\n",
              " ['SNA99873',\n",
              "  'ELE91337',\n",
              "  'DAI69239',\n",
              "  'GRO99222',\n",
              "  'GRO27756',\n",
              "  'SNA93641',\n",
              "  'ELE52966',\n",
              "  'SNA14713'],\n",
              " ['DAI62779',\n",
              "  'ELE17451',\n",
              "  'DAI47060',\n",
              "  'FRO31317',\n",
              "  'FRO61250',\n",
              "  'SNA14713',\n",
              "  'DAI49253',\n",
              "  'SNA62203',\n",
              "  'ELE41924',\n",
              "  'FRO41069',\n",
              "  'GRO17442',\n",
              "  'SNA63157',\n",
              "  'SNA43319'],\n",
              " ['DAI62779',\n",
              "  'ELE17451',\n",
              "  'FRO44363',\n",
              "  'SNA58915',\n",
              "  'DAI48919',\n",
              "  'FRO35353',\n",
              "  'SNA99873',\n",
              "  'GRO38983',\n",
              "  'FRO31317',\n",
              "  'ELE68605',\n",
              "  'DAI63921',\n",
              "  'DAI47060'],\n",
              " ['SNA45677',\n",
              "  'SNA14713',\n",
              "  'ELE59935',\n",
              "  'DAI62779',\n",
              "  'ELE17451',\n",
              "  'FRO71213',\n",
              "  'DAI35347',\n",
              "  'GRO12935',\n",
              "  'SNA81153',\n",
              "  'SNA93730',\n",
              "  'GRO56989',\n",
              "  'DAI36452',\n",
              "  'FRO41069',\n",
              "  'FRO32293',\n",
              "  'DAI50921',\n",
              "  'SNA58915',\n",
              "  'SNA89670',\n",
              "  'FRO78994'],\n",
              " ['ELE20166',\n",
              "  'ELE91337',\n",
              "  'SNA45677',\n",
              "  'FRO35353',\n",
              "  'DAI84001',\n",
              "  'SNA58915',\n",
              "  'SNA30579',\n",
              "  'ELE11468',\n",
              "  'GRO17442',\n",
              "  'DAI52318',\n",
              "  'SNA77101'],\n",
              " ['ELE12792',\n",
              "  'DAI54444',\n",
              "  'SNA46341',\n",
              "  'GRO55423',\n",
              "  'SNA93641',\n",
              "  'GRO94758',\n",
              "  'FRO88526',\n",
              "  'ELE20347',\n",
              "  'SNA99873',\n",
              "  'ELE28189'],\n",
              " ['ELE28189',\n",
              "  'GRO94758',\n",
              "  'GRO56989',\n",
              "  'SNA99873',\n",
              "  'ELE11474',\n",
              "  'DAI58079',\n",
              "  'ELE63685'],\n",
              " ['ELE12792',\n",
              "  'DAI14125',\n",
              "  'ELE20166',\n",
              "  'GRO86568',\n",
              "  'DAI37607',\n",
              "  'GRO55423',\n",
              "  'SNA93641',\n",
              "  'GRO94758',\n",
              "  'FRO40066'],\n",
              " ['ELE12792',\n",
              "  'ELE27376',\n",
              "  'ELE20166',\n",
              "  'GRO92942',\n",
              "  'ELE22574',\n",
              "  'GRO71615',\n",
              "  'SNA56035',\n",
              "  'DAI33885',\n",
              "  'DAI44355',\n",
              "  'ELE13292'],\n",
              " ['DAI62779',\n",
              "  'ELE17451',\n",
              "  'ELE86561',\n",
              "  'FRO31317',\n",
              "  'GRO38983',\n",
              "  'SNA58915',\n",
              "  'FRO35353',\n",
              "  'FRO87225',\n",
              "  'SNA40408'],\n",
              " ['DAI62779',\n",
              "  'ELE17451',\n",
              "  'ELE21353',\n",
              "  'FRO31317',\n",
              "  'SNA93860',\n",
              "  'DAI35347',\n",
              "  'GRO12935',\n",
              "  'SNA58915',\n",
              "  'FRO40251',\n",
              "  'GRO38636',\n",
              "  'ELE79816',\n",
              "  'FRO43226'],\n",
              " ['GRO12935',\n",
              "  'SNA89670',\n",
              "  'GRO56989',\n",
              "  'FRO78994',\n",
              "  'FRO40251',\n",
              "  'GRO85051',\n",
              "  'FRO43226',\n",
              "  'FRO78087',\n",
              "  'GRO93077',\n",
              "  'DAI59508',\n",
              "  'FRO99756',\n",
              "  'GRO84328'],\n",
              " ['DAI62779',\n",
              "  'ELE17451',\n",
              "  'GRO73461',\n",
              "  'GRO56989',\n",
              "  'FRO31317',\n",
              "  'ELE20398',\n",
              "  'SNA62579',\n",
              "  'DAI55911',\n",
              "  'FRO37380',\n",
              "  'DAI25796'],\n",
              " ['SNA45677',\n",
              "  'SNA14713',\n",
              "  'DAI62779',\n",
              "  'ELE17451',\n",
              "  'DAI47060',\n",
              "  'DAI35347',\n",
              "  'FRO98878',\n",
              "  'GRO34288',\n",
              "  'ELE96863',\n",
              "  'SNA70487',\n",
              "  'DAI48891',\n",
              "  'GRO81874',\n",
              "  'DAI73122',\n",
              "  'GRO69543',\n",
              "  'ELE49863',\n",
              "  'FRO53137',\n",
              "  'ELE64231',\n",
              "  'SNA69641',\n",
              "  'SNA63157',\n",
              "  'GRO49037',\n",
              "  'ELE12792',\n",
              "  'DAI59508']]"
            ]
          },
          "metadata": {},
          "execution_count": 2
        }
      ]
    },
    {
      "cell_type": "code",
      "source": [
        "#split data file by line\n",
        "#each line is a browsing session \n",
        " \n",
        "#text_split = text.split()\n",
        "#text_split\n"
      ],
      "metadata": {
        "id": "EvnKp1RXNOca"
      },
      "execution_count": null,
      "outputs": []
    },
    {
      "cell_type": "code",
      "source": [
        "#count number of baskets \n",
        "baskets = 0\n",
        "for line in sessions:\n",
        "  baskets = baskets + 1\n",
        "baskets\n"
      ],
      "metadata": {
        "colab": {
          "base_uri": "https://localhost:8080/"
        },
        "id": "eWgFDTQ7O3mG",
        "outputId": "a25d48f5-9f9a-44cb-c0a2-5e0f162eb767"
      },
      "execution_count": null,
      "outputs": [
        {
          "output_type": "execute_result",
          "data": {
            "text/plain": [
              "50"
            ]
          },
          "metadata": {},
          "execution_count": 3
        }
      ]
    },
    {
      "cell_type": "code",
      "source": [
        "#count occurrences of each item and add to dictionary\n",
        "counts = {}\n",
        "\n",
        "for inner in sessions:\n",
        "    for item in inner:\n",
        "        if counts.get(item):\n",
        "            counts[item] = counts[item] + 1\n",
        "        else:\n",
        "            counts[item] = 1\n",
        "\n",
        "counts"
      ],
      "metadata": {
        "colab": {
          "base_uri": "https://localhost:8080/"
        },
        "id": "9T8NT8nmfAZ1",
        "outputId": "cab9d30c-ed5e-487a-94dc-d92529ec4bf8"
      },
      "execution_count": null,
      "outputs": [
        {
          "output_type": "execute_result",
          "data": {
            "text/plain": [
              "{'FRO11987': 1,\n",
              " 'ELE17451': 37,\n",
              " 'ELE89019': 5,\n",
              " 'SNA90258': 7,\n",
              " 'GRO99222': 19,\n",
              " 'GRO12298': 1,\n",
              " 'FRO12685': 1,\n",
              " 'ELE91550': 1,\n",
              " 'SNA11465': 4,\n",
              " 'ELE26917': 10,\n",
              " 'ELE52966': 3,\n",
              " 'FRO90334': 1,\n",
              " 'SNA30755': 1,\n",
              " 'FRO84225': 1,\n",
              " 'SNA80192': 8,\n",
              " 'GRO73461': 11,\n",
              " 'DAI22896': 10,\n",
              " 'SNA99873': 9,\n",
              " 'FRO86643': 7,\n",
              " 'ELE37798': 7,\n",
              " 'GRO56989': 11,\n",
              " 'ELE23393': 2,\n",
              " 'SNA69641': 4,\n",
              " 'FRO78087': 13,\n",
              " 'GRO39357': 4,\n",
              " 'ELE28573': 6,\n",
              " 'ELE11375': 6,\n",
              " 'DAI54444': 2,\n",
              " 'FRO18919': 7,\n",
              " 'DAI50921': 2,\n",
              " 'GRO75578': 3,\n",
              " 'ELE59935': 8,\n",
              " 'SNA85662': 2,\n",
              " 'SNA91554': 2,\n",
              " 'DAI22177': 7,\n",
              " 'DAI14125': 2,\n",
              " 'DAI46755': 1,\n",
              " 'FRO81176': 2,\n",
              " 'ELE66810': 1,\n",
              " 'DAI49199': 1,\n",
              " 'DAI91535': 2,\n",
              " 'GRO94758': 5,\n",
              " 'ELE94711': 1,\n",
              " 'FRO76833': 1,\n",
              " 'DAI54690': 2,\n",
              " 'SNA47306': 3,\n",
              " 'GRO36567': 5,\n",
              " 'ELE82555': 2,\n",
              " 'SNA17715': 5,\n",
              " 'SNA94781': 3,\n",
              " 'DAI87514': 3,\n",
              " 'GRO48282': 3,\n",
              " 'GRO12935': 6,\n",
              " 'SNA55952': 6,\n",
              " 'DAI93692': 5,\n",
              " 'DAI92253': 2,\n",
              " 'FRO82427': 2,\n",
              " 'DAI48891': 3,\n",
              " 'ELE27376': 2,\n",
              " 'FRO47475': 3,\n",
              " 'DAI17810': 1,\n",
              " 'FRO17376': 1,\n",
              " 'DAI38969': 1,\n",
              " 'DAI50913': 1,\n",
              " 'ELE11111': 2,\n",
              " 'SNA66979': 1,\n",
              " 'FRO92261': 2,\n",
              " 'FRO76487': 1,\n",
              " 'GRO39369': 2,\n",
              " 'GRO22575': 1,\n",
              " 'GRO48971': 1,\n",
              " 'FRO32293': 2,\n",
              " 'FRO98729': 1,\n",
              " 'DAI95741': 3,\n",
              " 'DAI44355': 2,\n",
              " 'FRO75418': 2,\n",
              " 'FRO70974': 1,\n",
              " 'GRO49037': 4,\n",
              " 'GRO30386': 1,\n",
              " 'FRO41069': 4,\n",
              " 'ELE96863': 7,\n",
              " 'FRO16142': 1,\n",
              " 'ELE52446': 1,\n",
              " 'DAI88808': 1,\n",
              " 'FRO36081': 1,\n",
              " 'DAI35347': 11,\n",
              " 'SNA63157': 5,\n",
              " 'ELE73246': 2,\n",
              " 'ELE66067': 1,\n",
              " 'DAI22534': 3,\n",
              " 'SNA93860': 2,\n",
              " 'SNA84406': 2,\n",
              " 'SNA26720': 2,\n",
              " 'ELE98347': 1,\n",
              " 'ELE76964': 1,\n",
              " 'FRO19520': 3,\n",
              " 'FRO13639': 2,\n",
              " 'FRO24098': 6,\n",
              " 'FRO98878': 4,\n",
              " 'DAI38156': 3,\n",
              " 'SNA72163': 1,\n",
              " 'DAI55911': 2,\n",
              " 'FRO31317': 8,\n",
              " 'SNA59903': 1,\n",
              " 'DAI59119': 2,\n",
              " 'FRO87042': 1,\n",
              " 'GRO48498': 2,\n",
              " 'DAI18334': 2,\n",
              " 'FRO38366': 2,\n",
              " 'SNA70487': 4,\n",
              " 'ELE20196': 1,\n",
              " 'FRO60023': 1,\n",
              " 'GRO94047': 1,\n",
              " 'SNA40380': 1,\n",
              " 'GRO91763': 1,\n",
              " 'GRO15017': 2,\n",
              " 'FRO98184': 2,\n",
              " 'GRO59710': 1,\n",
              " 'SNA44593': 1,\n",
              " 'ELE30182': 2,\n",
              " 'ELE18435': 1,\n",
              " 'SNA45033': 1,\n",
              " 'DAI63921': 5,\n",
              " 'DAI95860': 1,\n",
              " 'FRO70489': 1,\n",
              " 'SNA18336': 1,\n",
              " 'GRO39070': 2,\n",
              " 'FRO74481': 1,\n",
              " 'ELE69204': 1,\n",
              " 'ELE66600': 1,\n",
              " 'FRO62970': 2,\n",
              " 'SNA54161': 1,\n",
              " 'SNA83730': 2,\n",
              " 'FRO79301': 2,\n",
              " 'SNA85034': 1,\n",
              " 'DAI91290': 1,\n",
              " 'ELE14480': 1,\n",
              " 'GRO82070': 1,\n",
              " 'DAI62779': 9,\n",
              " 'SNA86836': 1,\n",
              " 'GRO34288': 2,\n",
              " 'SNA55762': 1,\n",
              " 'SNA80064': 1,\n",
              " 'GRO68850': 1,\n",
              " 'GRO32230': 1,\n",
              " 'DAI32480': 1,\n",
              " 'SNA14713': 5,\n",
              " 'ELE91337': 2,\n",
              " 'DAI69239': 1,\n",
              " 'GRO27756': 1,\n",
              " 'SNA93641': 3,\n",
              " 'DAI47060': 3,\n",
              " 'FRO61250': 1,\n",
              " 'DAI49253': 1,\n",
              " 'SNA62203': 1,\n",
              " 'ELE41924': 1,\n",
              " 'GRO17442': 2,\n",
              " 'SNA43319': 1,\n",
              " 'FRO44363': 1,\n",
              " 'SNA58915': 5,\n",
              " 'DAI48919': 1,\n",
              " 'FRO35353': 3,\n",
              " 'GRO38983': 2,\n",
              " 'ELE68605': 1,\n",
              " 'SNA45677': 3,\n",
              " 'FRO71213': 1,\n",
              " 'SNA81153': 1,\n",
              " 'SNA93730': 1,\n",
              " 'DAI36452': 1,\n",
              " 'SNA89670': 2,\n",
              " 'FRO78994': 2,\n",
              " 'ELE20166': 3,\n",
              " 'DAI84001': 1,\n",
              " 'SNA30579': 1,\n",
              " 'ELE11468': 1,\n",
              " 'DAI52318': 1,\n",
              " 'SNA77101': 1,\n",
              " 'ELE12792': 4,\n",
              " 'SNA46341': 1,\n",
              " 'GRO55423': 2,\n",
              " 'FRO88526': 1,\n",
              " 'ELE20347': 1,\n",
              " 'ELE28189': 2,\n",
              " 'ELE11474': 1,\n",
              " 'DAI58079': 1,\n",
              " 'ELE63685': 1,\n",
              " 'GRO86568': 1,\n",
              " 'DAI37607': 1,\n",
              " 'FRO40066': 1,\n",
              " 'GRO92942': 1,\n",
              " 'ELE22574': 1,\n",
              " 'GRO71615': 1,\n",
              " 'SNA56035': 1,\n",
              " 'DAI33885': 1,\n",
              " 'ELE13292': 1,\n",
              " 'ELE86561': 1,\n",
              " 'FRO87225': 1,\n",
              " 'SNA40408': 1,\n",
              " 'ELE21353': 1,\n",
              " 'FRO40251': 2,\n",
              " 'GRO38636': 1,\n",
              " 'ELE79816': 1,\n",
              " 'FRO43226': 2,\n",
              " 'GRO85051': 1,\n",
              " 'GRO93077': 1,\n",
              " 'DAI59508': 2,\n",
              " 'FRO99756': 1,\n",
              " 'GRO84328': 1,\n",
              " 'ELE20398': 1,\n",
              " 'SNA62579': 1,\n",
              " 'FRO37380': 1,\n",
              " 'DAI25796': 1,\n",
              " 'GRO81874': 1,\n",
              " 'DAI73122': 1,\n",
              " 'GRO69543': 1,\n",
              " 'ELE49863': 1,\n",
              " 'FRO53137': 1,\n",
              " 'ELE64231': 1}"
            ]
          },
          "metadata": {},
          "execution_count": 4
        }
      ]
    },
    {
      "cell_type": "code",
      "source": [
        "#items are frequent if count is greater than 100\n",
        "#only keep in 'counts' if value is greater than 100\n",
        "filt = {key: value for (key, value) in counts.items() if value >= 10}\n",
        "filt"
      ],
      "metadata": {
        "id": "o2Bqv9XBCQjq",
        "colab": {
          "base_uri": "https://localhost:8080/"
        },
        "outputId": "37cea052-d3a8-4bf5-eb5b-a3738840152f"
      },
      "execution_count": null,
      "outputs": [
        {
          "output_type": "execute_result",
          "data": {
            "text/plain": [
              "{'ELE17451': 37,\n",
              " 'GRO99222': 19,\n",
              " 'ELE26917': 10,\n",
              " 'GRO73461': 11,\n",
              " 'DAI22896': 10,\n",
              " 'GRO56989': 11,\n",
              " 'FRO78087': 13,\n",
              " 'DAI35347': 11}"
            ]
          },
          "metadata": {},
          "execution_count": 5
        }
      ]
    },
    {
      "cell_type": "code",
      "source": [
        "#count occurrences of each item\n",
        "# newL = []\n",
        "# c = 0\n",
        "# for inner in sessions:\n",
        "#   for item in inner:\n",
        "#     if item not in newL:\n",
        "#       c = sum(x.count(item) for x in sessions)\n",
        "#       newL.append((item,c))\n",
        "#     else:\n",
        "#       newL[item] += 1\n",
        "# #newL\n",
        "# #remove duplicates from newL\n",
        "# res = [*set(newL)]\n",
        "# #res\n",
        "\n",
        "# #items are frequent if count is greater than 100\n",
        "# res2 = []\n",
        "# for inner in res:\n",
        "#   if inner[1] > 10:\n",
        "#     res2.append(inner)\n",
        "# res2\n",
        "\n",
        "\n"
      ],
      "metadata": {
        "id": "aRsWdXplh87V"
      },
      "execution_count": null,
      "outputs": []
    },
    {
      "cell_type": "code",
      "source": [
        "#number of frequent items\n",
        "no_freq = len(filt)\n",
        "no_freq"
      ],
      "metadata": {
        "colab": {
          "base_uri": "https://localhost:8080/"
        },
        "id": "kxU9HcTszNJt",
        "outputId": "99c364ea-c514-428c-e109-55ac775e9162"
      },
      "execution_count": null,
      "outputs": [
        {
          "output_type": "execute_result",
          "data": {
            "text/plain": [
              "8"
            ]
          },
          "metadata": {},
          "execution_count": 6
        }
      ]
    },
    {
      "cell_type": "code",
      "source": [
        "# counts = []\n",
        "# freq = []\n",
        "\n",
        "# for inner in sessions:\n",
        "#   for item in inner:\n",
        "#     if item in counts:\n",
        "#       counts[item] += 1\n",
        "#     else:\n",
        "#       #cou = 1\n",
        "#       counts.append((item,1))\n",
        "#       #counts[item] = 1\n",
        "# counts"
      ],
      "metadata": {
        "id": "_NbQvyehpYyB"
      },
      "execution_count": null,
      "outputs": []
    },
    {
      "cell_type": "code",
      "source": [
        "#pass 2\n",
        "#get list with frequent items (without counts)\n",
        "#pass2L = [item[0] for item in filt]\n",
        "pass2L = {key for (key,value) in filt.items()}\n",
        "pass2L\n"
      ],
      "metadata": {
        "colab": {
          "base_uri": "https://localhost:8080/"
        },
        "id": "AdRa91K2zxS_",
        "outputId": "f77394a5-defa-463a-de88-531964a68dd0"
      },
      "execution_count": null,
      "outputs": [
        {
          "output_type": "execute_result",
          "data": {
            "text/plain": [
              "{'DAI22896',\n",
              " 'DAI35347',\n",
              " 'ELE17451',\n",
              " 'ELE26917',\n",
              " 'FRO78087',\n",
              " 'GRO56989',\n",
              " 'GRO73461',\n",
              " 'GRO99222'}"
            ]
          },
          "metadata": {},
          "execution_count": 7
        }
      ]
    },
    {
      "cell_type": "code",
      "source": [
        "no_freq2 = len(pass2L)\n",
        "no_freq2"
      ],
      "metadata": {
        "colab": {
          "base_uri": "https://localhost:8080/"
        },
        "id": "wl9ooKytFNWP",
        "outputId": "9c48c437-20ff-4adc-c123-461468cfb3b5"
      },
      "execution_count": null,
      "outputs": [
        {
          "output_type": "execute_result",
          "data": {
            "text/plain": [
              "8"
            ]
          },
          "metadata": {},
          "execution_count": 8
        }
      ]
    },
    {
      "cell_type": "code",
      "source": [
        "#pass 2\n",
        "#create pairs from frequent items list\n",
        "pass2List = list(pass2L)\n",
        "freq_pairs = []\n",
        "iter = 0\n",
        "for i in pass2List:\n",
        "  iter += 1\n",
        "  for j in range(iter, len(pass2List)):\n",
        "    freq_pairs.append((i, pass2List[j]))\n",
        "freq_pairs"
      ],
      "metadata": {
        "colab": {
          "base_uri": "https://localhost:8080/"
        },
        "id": "hwxScYtC0rLJ",
        "outputId": "cbcc2fef-41f8-40b0-a13b-83b5af49f391"
      },
      "execution_count": null,
      "outputs": [
        {
          "output_type": "execute_result",
          "data": {
            "text/plain": [
              "[('DAI22896', 'GRO73461'),\n",
              " ('DAI22896', 'FRO78087'),\n",
              " ('DAI22896', 'GRO99222'),\n",
              " ('DAI22896', 'ELE17451'),\n",
              " ('DAI22896', 'GRO56989'),\n",
              " ('DAI22896', 'DAI35347'),\n",
              " ('DAI22896', 'ELE26917'),\n",
              " ('GRO73461', 'FRO78087'),\n",
              " ('GRO73461', 'GRO99222'),\n",
              " ('GRO73461', 'ELE17451'),\n",
              " ('GRO73461', 'GRO56989'),\n",
              " ('GRO73461', 'DAI35347'),\n",
              " ('GRO73461', 'ELE26917'),\n",
              " ('FRO78087', 'GRO99222'),\n",
              " ('FRO78087', 'ELE17451'),\n",
              " ('FRO78087', 'GRO56989'),\n",
              " ('FRO78087', 'DAI35347'),\n",
              " ('FRO78087', 'ELE26917'),\n",
              " ('GRO99222', 'ELE17451'),\n",
              " ('GRO99222', 'GRO56989'),\n",
              " ('GRO99222', 'DAI35347'),\n",
              " ('GRO99222', 'ELE26917'),\n",
              " ('ELE17451', 'GRO56989'),\n",
              " ('ELE17451', 'DAI35347'),\n",
              " ('ELE17451', 'ELE26917'),\n",
              " ('GRO56989', 'DAI35347'),\n",
              " ('GRO56989', 'ELE26917'),\n",
              " ('DAI35347', 'ELE26917')]"
            ]
          },
          "metadata": {},
          "execution_count": 9
        }
      ]
    },
    {
      "cell_type": "code",
      "source": [
        "#pass 2\n",
        "#count how many times pairs occur within original baskets\n",
        "# newL2 = []\n",
        "# c = 0\n",
        "# for inner in sessions:\n",
        "#   for inner2 in sessions:\n",
        "#     if inner in inner2:\n",
        "#       c = sum(x.count(item) for x in sessions)\n",
        "#       newL2.append((item,c))\n",
        "#     #else:\n",
        "#       #newL2[item] += 1\n",
        "# newL2\n",
        "\n",
        "#remove duplicates from newL\n",
        "#res = [*set(newL)]\n",
        "#res\n"
      ],
      "metadata": {
        "colab": {
          "base_uri": "https://localhost:8080/"
        },
        "id": "_LU6-Yh24dJG",
        "outputId": "b33fac3f-d09c-4e44-b6be-b07914dfd353"
      },
      "execution_count": null,
      "outputs": [
        {
          "output_type": "execute_result",
          "data": {
            "text/plain": [
              "[]"
            ]
          },
          "metadata": {},
          "execution_count": 86
        }
      ]
    },
    {
      "cell_type": "code",
      "source": [
        "#pass 2\n",
        "#count how many times pairs occur within original baskets\n",
        "freq_baskets_counts = {}\n",
        "\n",
        "for session in sessions:\n",
        "  for pair in freq_pairs:\n",
        "    if pair[0] in session and pair[1] in session:\n",
        "      if freq_baskets_counts.get(pair):\n",
        "            freq_baskets_counts[pair] = freq_baskets_counts[pair] + 1\n",
        "      else:\n",
        "            freq_baskets_counts[pair] = 1\n",
        "freq_baskets_counts"
      ],
      "metadata": {
        "id": "TBfU3PKMRvRh",
        "colab": {
          "base_uri": "https://localhost:8080/"
        },
        "outputId": "78b3f903-7380-4ad7-e4cb-0c3ff6456cdf"
      },
      "execution_count": null,
      "outputs": [
        {
          "output_type": "execute_result",
          "data": {
            "text/plain": [
              "{('GRO99222', 'ELE17451'): 15,\n",
              " ('GRO99222', 'ELE26917'): 10,\n",
              " ('ELE17451', 'ELE26917'): 8,\n",
              " ('DAI22896', 'GRO73461'): 8,\n",
              " ('DAI22896', 'ELE17451'): 9,\n",
              " ('GRO73461', 'ELE17451'): 11,\n",
              " ('ELE17451', 'GRO56989'): 9,\n",
              " ('FRO78087', 'ELE17451'): 9,\n",
              " ('GRO99222', 'GRO56989'): 3,\n",
              " ('DAI22896', 'GRO99222'): 6,\n",
              " ('DAI22896', 'ELE26917'): 3,\n",
              " ('GRO73461', 'GRO99222'): 6,\n",
              " ('GRO73461', 'ELE26917'): 4,\n",
              " ('DAI22896', 'FRO78087'): 1,\n",
              " ('GRO73461', 'FRO78087'): 1,\n",
              " ('FRO78087', 'GRO56989'): 3,\n",
              " ('ELE17451', 'DAI35347'): 10,\n",
              " ('GRO56989', 'DAI35347'): 4,\n",
              " ('GRO99222', 'DAI35347'): 6,\n",
              " ('GRO56989', 'ELE26917'): 1,\n",
              " ('DAI35347', 'ELE26917'): 6,\n",
              " ('DAI22896', 'DAI35347'): 1,\n",
              " ('GRO73461', 'DAI35347'): 3,\n",
              " ('FRO78087', 'DAI35347'): 1,\n",
              " ('FRO78087', 'GRO99222'): 1,\n",
              " ('GRO73461', 'GRO56989'): 1}"
            ]
          },
          "metadata": {},
          "execution_count": 10
        }
      ]
    },
    {
      "cell_type": "code",
      "source": [
        "#filter out pairs less than support\n",
        "filt2 = {key: value for (key, value) in freq_baskets_counts.items() if value >= 8}\n",
        "filt2\n"
      ],
      "metadata": {
        "colab": {
          "base_uri": "https://localhost:8080/"
        },
        "id": "MV0qdZ6lklkX",
        "outputId": "db1be00a-7e83-4625-a043-5144c6ebf9a0"
      },
      "execution_count": null,
      "outputs": [
        {
          "output_type": "execute_result",
          "data": {
            "text/plain": [
              "{('GRO99222', 'ELE17451'): 15,\n",
              " ('GRO99222', 'ELE26917'): 10,\n",
              " ('ELE17451', 'ELE26917'): 8,\n",
              " ('DAI22896', 'GRO73461'): 8,\n",
              " ('DAI22896', 'ELE17451'): 9,\n",
              " ('GRO73461', 'ELE17451'): 11,\n",
              " ('ELE17451', 'GRO56989'): 9,\n",
              " ('FRO78087', 'ELE17451'): 9,\n",
              " ('ELE17451', 'DAI35347'): 10}"
            ]
          },
          "metadata": {},
          "execution_count": 12
        }
      ]
    },
    {
      "cell_type": "code",
      "source": [
        "freq_pairs2 = {key for (key,value) in filt2.items()}\n",
        "freq_pairs2"
      ],
      "metadata": {
        "colab": {
          "base_uri": "https://localhost:8080/"
        },
        "id": "3-ArhaB9mCQg",
        "outputId": "3f9a2255-22c2-4fe4-bdb5-3f6c47f581f1"
      },
      "execution_count": null,
      "outputs": [
        {
          "output_type": "execute_result",
          "data": {
            "text/plain": [
              "{('DAI22896', 'ELE17451'),\n",
              " ('DAI22896', 'GRO73461'),\n",
              " ('ELE17451', 'DAI35347'),\n",
              " ('ELE17451', 'ELE26917'),\n",
              " ('ELE17451', 'GRO56989'),\n",
              " ('FRO78087', 'ELE17451'),\n",
              " ('GRO73461', 'ELE17451'),\n",
              " ('GRO99222', 'ELE17451'),\n",
              " ('GRO99222', 'ELE26917')}"
            ]
          },
          "metadata": {},
          "execution_count": 53
        }
      ]
    },
    {
      "cell_type": "code",
      "source": [
        "#compute confidence scores of each pair\n",
        "pair_conf = {}\n",
        "for item in filt2:\n",
        "  conf_xy = filt2.get(item)/filt[item[0]]\n",
        "  conf_yx = filt2.get(item)/filt[item[1]]\n",
        "  pair_conf[item] = conf_xy\n",
        "  pair_conf[item[1], item[0]] = conf_yx\n",
        "\n",
        "pair_conf"
      ],
      "metadata": {
        "colab": {
          "base_uri": "https://localhost:8080/"
        },
        "id": "cq-u_IYglUGz",
        "outputId": "ba76e1c0-63fc-4eb4-8cfb-87f4937feb9b"
      },
      "execution_count": null,
      "outputs": [
        {
          "output_type": "execute_result",
          "data": {
            "text/plain": [
              "{('GRO99222', 'ELE17451'): 0.7894736842105263,\n",
              " ('ELE17451', 'GRO99222'): 0.40540540540540543,\n",
              " ('GRO99222', 'ELE26917'): 0.5263157894736842,\n",
              " ('ELE26917', 'GRO99222'): 1.0,\n",
              " ('ELE17451', 'ELE26917'): 0.21621621621621623,\n",
              " ('ELE26917', 'ELE17451'): 0.8,\n",
              " ('DAI22896', 'GRO73461'): 0.8,\n",
              " ('GRO73461', 'DAI22896'): 0.7272727272727273,\n",
              " ('DAI22896', 'ELE17451'): 0.9,\n",
              " ('ELE17451', 'DAI22896'): 0.24324324324324326,\n",
              " ('GRO73461', 'ELE17451'): 1.0,\n",
              " ('ELE17451', 'GRO73461'): 0.2972972972972973,\n",
              " ('ELE17451', 'GRO56989'): 0.24324324324324326,\n",
              " ('GRO56989', 'ELE17451'): 0.8181818181818182,\n",
              " ('FRO78087', 'ELE17451'): 0.6923076923076923,\n",
              " ('ELE17451', 'FRO78087'): 0.24324324324324326,\n",
              " ('ELE17451', 'DAI35347'): 0.2702702702702703,\n",
              " ('DAI35347', 'ELE17451'): 0.9090909090909091}"
            ]
          },
          "metadata": {},
          "execution_count": 45
        }
      ]
    },
    {
      "cell_type": "code",
      "source": [
        "#sort in decreasing order\n",
        "new = list(pair_conf.items())\n",
        "new.sort(key=lambda x: -x[1])\n",
        "new"
      ],
      "metadata": {
        "colab": {
          "base_uri": "https://localhost:8080/"
        },
        "id": "FNkCrI6Esah6",
        "outputId": "1402e29b-eddf-4268-ac5e-1d26bc2e4b3c"
      },
      "execution_count": null,
      "outputs": [
        {
          "output_type": "execute_result",
          "data": {
            "text/plain": [
              "[(('ELE26917', 'GRO99222'), 1.0),\n",
              " (('GRO73461', 'ELE17451'), 1.0),\n",
              " (('DAI35347', 'ELE17451'), 0.9090909090909091),\n",
              " (('DAI22896', 'ELE17451'), 0.9),\n",
              " (('GRO56989', 'ELE17451'), 0.8181818181818182),\n",
              " (('ELE26917', 'ELE17451'), 0.8),\n",
              " (('DAI22896', 'GRO73461'), 0.8),\n",
              " (('GRO99222', 'ELE17451'), 0.7894736842105263),\n",
              " (('GRO73461', 'DAI22896'), 0.7272727272727273),\n",
              " (('FRO78087', 'ELE17451'), 0.6923076923076923),\n",
              " (('GRO99222', 'ELE26917'), 0.5263157894736842),\n",
              " (('ELE17451', 'GRO99222'), 0.40540540540540543),\n",
              " (('ELE17451', 'GRO73461'), 0.2972972972972973),\n",
              " (('ELE17451', 'DAI35347'), 0.2702702702702703),\n",
              " (('ELE17451', 'DAI22896'), 0.24324324324324326),\n",
              " (('ELE17451', 'GRO56989'), 0.24324324324324326),\n",
              " (('ELE17451', 'FRO78087'), 0.24324324324324326),\n",
              " (('ELE17451', 'ELE26917'), 0.21621621621621623)]"
            ]
          },
          "metadata": {},
          "execution_count": 60
        }
      ]
    },
    {
      "cell_type": "code",
      "source": [
        "#get top 5 rules\n",
        "top5 = []\n",
        "count = 0\n",
        "for item in new:\n",
        "  if count < 5:\n",
        "    top5.append(item)\n",
        "  count += 1\n",
        "top5"
      ],
      "metadata": {
        "colab": {
          "base_uri": "https://localhost:8080/"
        },
        "id": "Ic6YXrSUnds1",
        "outputId": "b874660f-aa12-4e79-810d-5ed0cb0ba4f6"
      },
      "execution_count": null,
      "outputs": [
        {
          "output_type": "execute_result",
          "data": {
            "text/plain": [
              "[(('ELE26917', 'GRO99222'), 1.0),\n",
              " (('GRO73461', 'ELE17451'), 1.0),\n",
              " (('DAI35347', 'ELE17451'), 0.9090909090909091),\n",
              " (('DAI22896', 'ELE17451'), 0.9),\n",
              " (('GRO56989', 'ELE17451'), 0.8181818181818182)]"
            ]
          },
          "metadata": {},
          "execution_count": 67
        }
      ]
    },
    {
      "cell_type": "code",
      "source": [
        "#write to txt file\n",
        "\n",
        "file = open('output.txt','w')\n",
        "file.write(\"OUTPUT A\\n\")\n",
        "for item in top5:\n",
        "  file.write(item[0][0]+ \" \" +item[0][1] + \" \" +str(item[1])+ \"\\n\")\n"
      ],
      "metadata": {
        "id": "z8oMUcpVm8bD"
      },
      "execution_count": null,
      "outputs": []
    },
    {
      "cell_type": "code",
      "source": [
        "#pass 3\n",
        "#make frequent triples using frequent pairs (freq_pairs2) and frequent items (pass2L)\n",
        "triples = []\n",
        "for pair in freq_pairs2:\n",
        "  for item in pass2L:\n",
        "    if item not in pair:\n",
        "        triples.append((*pair, item))\n",
        "triples\n"
      ],
      "metadata": {
        "colab": {
          "base_uri": "https://localhost:8080/"
        },
        "id": "bqfeH9HFjZDH",
        "outputId": "87b382cb-96c6-4313-a6bf-b7c40ac0cea7"
      },
      "execution_count": null,
      "outputs": [
        {
          "output_type": "execute_result",
          "data": {
            "text/plain": [
              "[('GRO99222', 'ELE17451', 'DAI22896'),\n",
              " ('GRO99222', 'ELE17451', 'GRO73461'),\n",
              " ('GRO99222', 'ELE17451', 'FRO78087'),\n",
              " ('GRO99222', 'ELE17451', 'GRO56989'),\n",
              " ('GRO99222', 'ELE17451', 'DAI35347'),\n",
              " ('GRO99222', 'ELE17451', 'ELE26917'),\n",
              " ('GRO99222', 'ELE26917', 'DAI22896'),\n",
              " ('GRO99222', 'ELE26917', 'GRO73461'),\n",
              " ('GRO99222', 'ELE26917', 'FRO78087'),\n",
              " ('GRO99222', 'ELE26917', 'ELE17451'),\n",
              " ('GRO99222', 'ELE26917', 'GRO56989'),\n",
              " ('GRO99222', 'ELE26917', 'DAI35347'),\n",
              " ('FRO78087', 'ELE17451', 'DAI22896'),\n",
              " ('FRO78087', 'ELE17451', 'GRO73461'),\n",
              " ('FRO78087', 'ELE17451', 'GRO99222'),\n",
              " ('FRO78087', 'ELE17451', 'GRO56989'),\n",
              " ('FRO78087', 'ELE17451', 'DAI35347'),\n",
              " ('FRO78087', 'ELE17451', 'ELE26917'),\n",
              " ('ELE17451', 'DAI35347', 'DAI22896'),\n",
              " ('ELE17451', 'DAI35347', 'GRO73461'),\n",
              " ('ELE17451', 'DAI35347', 'FRO78087'),\n",
              " ('ELE17451', 'DAI35347', 'GRO99222'),\n",
              " ('ELE17451', 'DAI35347', 'GRO56989'),\n",
              " ('ELE17451', 'DAI35347', 'ELE26917'),\n",
              " ('DAI22896', 'GRO73461', 'FRO78087'),\n",
              " ('DAI22896', 'GRO73461', 'GRO99222'),\n",
              " ('DAI22896', 'GRO73461', 'ELE17451'),\n",
              " ('DAI22896', 'GRO73461', 'GRO56989'),\n",
              " ('DAI22896', 'GRO73461', 'DAI35347'),\n",
              " ('DAI22896', 'GRO73461', 'ELE26917'),\n",
              " ('DAI22896', 'ELE17451', 'GRO73461'),\n",
              " ('DAI22896', 'ELE17451', 'FRO78087'),\n",
              " ('DAI22896', 'ELE17451', 'GRO99222'),\n",
              " ('DAI22896', 'ELE17451', 'GRO56989'),\n",
              " ('DAI22896', 'ELE17451', 'DAI35347'),\n",
              " ('DAI22896', 'ELE17451', 'ELE26917'),\n",
              " ('ELE17451', 'ELE26917', 'DAI22896'),\n",
              " ('ELE17451', 'ELE26917', 'GRO73461'),\n",
              " ('ELE17451', 'ELE26917', 'FRO78087'),\n",
              " ('ELE17451', 'ELE26917', 'GRO99222'),\n",
              " ('ELE17451', 'ELE26917', 'GRO56989'),\n",
              " ('ELE17451', 'ELE26917', 'DAI35347'),\n",
              " ('GRO73461', 'ELE17451', 'DAI22896'),\n",
              " ('GRO73461', 'ELE17451', 'FRO78087'),\n",
              " ('GRO73461', 'ELE17451', 'GRO99222'),\n",
              " ('GRO73461', 'ELE17451', 'GRO56989'),\n",
              " ('GRO73461', 'ELE17451', 'DAI35347'),\n",
              " ('GRO73461', 'ELE17451', 'ELE26917'),\n",
              " ('ELE17451', 'GRO56989', 'DAI22896'),\n",
              " ('ELE17451', 'GRO56989', 'GRO73461'),\n",
              " ('ELE17451', 'GRO56989', 'FRO78087'),\n",
              " ('ELE17451', 'GRO56989', 'GRO99222'),\n",
              " ('ELE17451', 'GRO56989', 'DAI35347'),\n",
              " ('ELE17451', 'GRO56989', 'ELE26917')]"
            ]
          },
          "metadata": {},
          "execution_count": 147
        }
      ]
    },
    {
      "cell_type": "code",
      "source": [
        "#pass 3\n",
        "#count baskets\n",
        "freq_baskets_counts2 = {}\n",
        "\n",
        "for session in sessions:\n",
        "  for t in triples:\n",
        "    if t[0] in session and t[1] and t[2] in session:\n",
        "      if freq_baskets_counts2.get(t):\n",
        "            freq_baskets_counts2[t] = freq_baskets_counts2[t] + 1\n",
        "      else:\n",
        "            freq_baskets_counts2[t] = 1\n",
        "freq_baskets_counts2"
      ],
      "metadata": {
        "colab": {
          "base_uri": "https://localhost:8080/"
        },
        "id": "7__XgjqEpvY4",
        "outputId": "33a2943f-c999-4298-c9bf-920f8df4336a"
      },
      "execution_count": null,
      "outputs": [
        {
          "output_type": "execute_result",
          "data": {
            "text/plain": [
              "{('GRO99222', 'ELE26917', 'ELE17451'): 15,\n",
              " ('ELE17451', 'DAI35347', 'GRO99222'): 15,\n",
              " ('ELE17451', 'ELE26917', 'GRO99222'): 15,\n",
              " ('ELE17451', 'GRO56989', 'GRO99222'): 15,\n",
              " ('GRO99222', 'ELE17451', 'ELE26917'): 10,\n",
              " ('ELE17451', 'DAI35347', 'ELE26917'): 8,\n",
              " ('ELE17451', 'GRO56989', 'ELE26917'): 8,\n",
              " ('ELE17451', 'DAI35347', 'GRO73461'): 11,\n",
              " ('ELE17451', 'ELE26917', 'GRO73461'): 11,\n",
              " ('ELE17451', 'GRO56989', 'GRO73461'): 11,\n",
              " ('GRO99222', 'ELE17451', 'GRO56989'): 3,\n",
              " ('GRO99222', 'ELE17451', 'GRO73461'): 6,\n",
              " ('GRO99222', 'ELE26917', 'GRO73461'): 6,\n",
              " ('DAI22896', 'GRO73461', 'GRO99222'): 6,\n",
              " ('DAI22896', 'GRO73461', 'ELE26917'): 3,\n",
              " ('DAI22896', 'ELE17451', 'ELE26917'): 3,\n",
              " ('GRO73461', 'ELE17451', 'ELE26917'): 4,\n",
              " ('FRO78087', 'ELE17451', 'GRO73461'): 1,\n",
              " ('DAI22896', 'ELE17451', 'FRO78087'): 1,\n",
              " ('GRO73461', 'ELE17451', 'FRO78087'): 1,\n",
              " ('FRO78087', 'ELE17451', 'GRO56989'): 3,\n",
              " ('ELE17451', 'ELE26917', 'DAI35347'): 10,\n",
              " ('GRO99222', 'ELE26917', 'DAI35347'): 6,\n",
              " ('GRO73461', 'ELE17451', 'GRO56989'): 1}"
            ]
          },
          "metadata": {},
          "execution_count": 136
        }
      ]
    },
    {
      "cell_type": "code",
      "source": [
        "#filter based on support\n",
        "filt3 = {key: value for (key, value) in freq_baskets_counts2.items() if value >= 10}\n",
        "filt3"
      ],
      "metadata": {
        "colab": {
          "base_uri": "https://localhost:8080/"
        },
        "id": "A3t1b2UIqK6C",
        "outputId": "93f241ac-48fe-43ed-951b-be76836c1a78"
      },
      "execution_count": null,
      "outputs": [
        {
          "output_type": "execute_result",
          "data": {
            "text/plain": [
              "{('GRO99222', 'ELE26917', 'ELE17451'): 15,\n",
              " ('ELE17451', 'DAI35347', 'GRO99222'): 15,\n",
              " ('ELE17451', 'ELE26917', 'GRO99222'): 15,\n",
              " ('ELE17451', 'GRO56989', 'GRO99222'): 15,\n",
              " ('GRO99222', 'ELE17451', 'ELE26917'): 10,\n",
              " ('ELE17451', 'DAI35347', 'GRO73461'): 11,\n",
              " ('ELE17451', 'ELE26917', 'GRO73461'): 11,\n",
              " ('ELE17451', 'GRO56989', 'GRO73461'): 11,\n",
              " ('ELE17451', 'ELE26917', 'DAI35347'): 10}"
            ]
          },
          "metadata": {},
          "execution_count": 137
        }
      ]
    },
    {
      "cell_type": "code",
      "source": [
        "freq_triples = {key for (key,value) in filt3.items()}\n",
        "freq_triples"
      ],
      "metadata": {
        "colab": {
          "base_uri": "https://localhost:8080/"
        },
        "id": "WdtkXcFrqW7S",
        "outputId": "2076b417-d02d-4a01-cd46-7b1bf64ce8b7"
      },
      "execution_count": null,
      "outputs": [
        {
          "output_type": "execute_result",
          "data": {
            "text/plain": [
              "{('ELE17451', 'DAI35347', 'GRO73461'),\n",
              " ('ELE17451', 'DAI35347', 'GRO99222'),\n",
              " ('ELE17451', 'ELE26917', 'DAI35347'),\n",
              " ('ELE17451', 'ELE26917', 'GRO73461'),\n",
              " ('ELE17451', 'ELE26917', 'GRO99222'),\n",
              " ('ELE17451', 'GRO56989', 'DAI35347'),\n",
              " ('ELE17451', 'GRO56989', 'GRO73461'),\n",
              " ('ELE17451', 'GRO56989', 'GRO99222'),\n",
              " ('GRO99222', 'ELE17451', 'ELE26917'),\n",
              " ('GRO99222', 'ELE26917', 'ELE17451')}"
            ]
          },
          "metadata": {},
          "execution_count": 129
        }
      ]
    },
    {
      "cell_type": "code",
      "source": [
        "#compute confidence rules\n",
        "conf2 = {}\n",
        "for item in filt3:\n",
        "  conf_xyz = filt3.get(item)/filt2[item[0], item[1]]\n",
        "  if (item[0],item[2]) in filt2:\n",
        "    conf_xzy = filt3.get(item)/filt2[item[0], item[2]]\n",
        "  if (item[2], item[0]) in filt2:\n",
        "    conf_xzy = filt3.get(item)/filt2[item[2], item[0]]\n",
        "  if (item[1],item[2]) in filt2:\n",
        "    conf_yzx = filt3.get(item)/filt2[item[1], item[2]]\n",
        "  if (item[2],item[1]) in filt2:\n",
        "    conf_yzx = filt3.get(item)/filt2[item[2], item[1]]\n",
        "  conf2[item] = conf_xyz\n",
        "  conf2[item[0], item[2], item[1]] = conf_xzy\n",
        "  conf2[item[1], item[2], item[0]] = conf_yzx\n",
        "\n",
        "conf2\n"
      ],
      "metadata": {
        "colab": {
          "base_uri": "https://localhost:8080/"
        },
        "id": "aHl_Ctl2qvop",
        "outputId": "1aaa0356-6fd1-470a-9ed0-749e1ff6223c"
      },
      "execution_count": null,
      "outputs": [
        {
          "output_type": "execute_result",
          "data": {
            "text/plain": [
              "{('GRO99222', 'ELE26917', 'ELE17451'): 1.0,\n",
              " ('GRO99222', 'ELE17451', 'ELE26917'): 0.6666666666666666,\n",
              " ('ELE26917', 'ELE17451', 'GRO99222'): 1.875,\n",
              " ('ELE17451', 'DAI35347', 'GRO99222'): 1.5,\n",
              " ('ELE17451', 'GRO99222', 'DAI35347'): 1.0,\n",
              " ('DAI35347', 'GRO99222', 'ELE17451'): 1.875,\n",
              " ('ELE17451', 'ELE26917', 'GRO99222'): 1.25,\n",
              " ('ELE17451', 'GRO99222', 'ELE26917'): 1.0,\n",
              " ('ELE26917', 'GRO99222', 'ELE17451'): 1.5,\n",
              " ('ELE17451', 'GRO56989', 'GRO99222'): 1.6666666666666667,\n",
              " ('ELE17451', 'GRO99222', 'GRO56989'): 1.0,\n",
              " ('GRO56989', 'GRO99222', 'ELE17451'): 1.5,\n",
              " ('ELE17451', 'DAI35347', 'GRO73461'): 1.1,\n",
              " ('ELE17451', 'GRO73461', 'DAI35347'): 1.0,\n",
              " ('DAI35347', 'GRO73461', 'ELE17451'): 1.25,\n",
              " ('ELE17451', 'ELE26917', 'GRO73461'): 1.375,\n",
              " ('ELE17451', 'GRO73461', 'ELE26917'): 1.0,\n",
              " ('ELE26917', 'GRO73461', 'ELE17451'): 1.25,\n",
              " ('ELE17451', 'GRO56989', 'GRO73461'): 1.2222222222222223,\n",
              " ('ELE17451', 'GRO73461', 'GRO56989'): 1.0,\n",
              " ('GRO56989', 'GRO73461', 'ELE17451'): 1.25,\n",
              " ('ELE17451', 'ELE26917', 'DAI35347'): 1.25,\n",
              " ('ELE17451', 'DAI35347', 'ELE26917'): 1.0,\n",
              " ('ELE26917', 'DAI35347', 'ELE17451'): 1.25,\n",
              " ('ELE17451', 'GRO56989', 'DAI35347'): 1.1111111111111112,\n",
              " ('ELE17451', 'DAI35347', 'GRO56989'): 1.0,\n",
              " ('GRO56989', 'DAI35347', 'ELE17451'): 1.25}"
            ]
          },
          "metadata": {},
          "execution_count": 130
        }
      ]
    },
    {
      "cell_type": "code",
      "source": [
        "#sort rules in decending order\n",
        "new2 = list(conf2.items())\n",
        "new2.sort(key=lambda x: -x[1])\n",
        "new2"
      ],
      "metadata": {
        "colab": {
          "base_uri": "https://localhost:8080/"
        },
        "id": "GhOsAyw316zb",
        "outputId": "34fe0365-3610-4ef2-904a-afd79218d213"
      },
      "execution_count": null,
      "outputs": [
        {
          "output_type": "execute_result",
          "data": {
            "text/plain": [
              "[(('ELE26917', 'ELE17451', 'GRO99222'), 1.875),\n",
              " (('DAI35347', 'GRO99222', 'ELE17451'), 1.875),\n",
              " (('ELE17451', 'GRO56989', 'GRO99222'), 1.6666666666666667),\n",
              " (('ELE17451', 'DAI35347', 'GRO99222'), 1.5),\n",
              " (('ELE26917', 'GRO99222', 'ELE17451'), 1.5),\n",
              " (('GRO56989', 'GRO99222', 'ELE17451'), 1.5),\n",
              " (('ELE17451', 'ELE26917', 'GRO73461'), 1.375),\n",
              " (('ELE17451', 'ELE26917', 'GRO99222'), 1.25),\n",
              " (('DAI35347', 'GRO73461', 'ELE17451'), 1.25),\n",
              " (('ELE26917', 'GRO73461', 'ELE17451'), 1.25),\n",
              " (('GRO56989', 'GRO73461', 'ELE17451'), 1.25),\n",
              " (('ELE17451', 'ELE26917', 'DAI35347'), 1.25),\n",
              " (('ELE26917', 'DAI35347', 'ELE17451'), 1.25),\n",
              " (('GRO56989', 'DAI35347', 'ELE17451'), 1.25),\n",
              " (('ELE17451', 'GRO56989', 'GRO73461'), 1.2222222222222223),\n",
              " (('ELE17451', 'GRO56989', 'DAI35347'), 1.1111111111111112),\n",
              " (('ELE17451', 'DAI35347', 'GRO73461'), 1.1),\n",
              " (('GRO99222', 'ELE26917', 'ELE17451'), 1.0),\n",
              " (('ELE17451', 'GRO99222', 'DAI35347'), 1.0),\n",
              " (('ELE17451', 'GRO99222', 'ELE26917'), 1.0),\n",
              " (('ELE17451', 'GRO99222', 'GRO56989'), 1.0),\n",
              " (('ELE17451', 'GRO73461', 'DAI35347'), 1.0),\n",
              " (('ELE17451', 'GRO73461', 'ELE26917'), 1.0),\n",
              " (('ELE17451', 'GRO73461', 'GRO56989'), 1.0),\n",
              " (('ELE17451', 'DAI35347', 'ELE26917'), 1.0),\n",
              " (('ELE17451', 'DAI35347', 'GRO56989'), 1.0),\n",
              " (('GRO99222', 'ELE17451', 'ELE26917'), 0.6666666666666666)]"
            ]
          },
          "metadata": {},
          "execution_count": 131
        }
      ]
    },
    {
      "cell_type": "code",
      "source": [
        "#get top 5 rules\n",
        "top5t = []\n",
        "count = 0\n",
        "for item in new2:\n",
        "  if count < 5:\n",
        "    top5t.append(item)\n",
        "  count += 1\n",
        "top5t"
      ],
      "metadata": {
        "colab": {
          "base_uri": "https://localhost:8080/"
        },
        "id": "I3jF8GL52RPG",
        "outputId": "443b1309-6c64-4ccb-d17c-8e7863613c30"
      },
      "execution_count": null,
      "outputs": [
        {
          "output_type": "execute_result",
          "data": {
            "text/plain": [
              "[(('ELE26917', 'ELE17451', 'GRO99222'), 1.875),\n",
              " (('DAI35347', 'GRO99222', 'ELE17451'), 1.875),\n",
              " (('ELE17451', 'GRO56989', 'GRO99222'), 1.6666666666666667),\n",
              " (('ELE17451', 'DAI35347', 'GRO99222'), 1.5),\n",
              " (('ELE26917', 'GRO99222', 'ELE17451'), 1.5)]"
            ]
          },
          "metadata": {},
          "execution_count": 132
        }
      ]
    },
    {
      "cell_type": "code",
      "source": [
        "file.write(\"OUTPUT B\\n\")\n",
        "for item in top5t:\n",
        "  file.write(item[0][0]+ \" \" +item[0][1] + \" \" +item[0][2] + \" \"+str(item[1])+ \"\\n\")\n",
        "file.close()"
      ],
      "metadata": {
        "id": "nYnSp21EqNea"
      },
      "execution_count": null,
      "outputs": []
    }
  ]
}